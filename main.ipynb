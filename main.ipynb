{
 "cells": [
  {
   "cell_type": "markdown",
   "id": "19155fa0",
   "metadata": {},
   "source": [
    "# LAB | Introduction to MLOps\n",
    "\n",
    "Answer the questions,"
   ]
  },
  {
   "cell_type": "markdown",
   "id": "3671f18c",
   "metadata": {},
   "source": [
    "Data source: https://www1.nyc.gov/site/tlc/about/tlc-trip-record-data.page"
   ]
  },
  {
   "cell_type": "code",
   "execution_count": 2,
   "id": "ffbae123",
   "metadata": {},
   "outputs": [],
   "source": [
    "import pandas as pd"
   ]
  },
  {
   "cell_type": "code",
   "execution_count": 3,
   "id": "0939ec8e",
   "metadata": {},
   "outputs": [],
   "source": [
    "# !pip install pyarrow"
   ]
  },
  {
   "cell_type": "code",
   "execution_count": 4,
   "id": "6a5cd385",
   "metadata": {},
   "outputs": [],
   "source": [
    "df_jan = pd.read_parquet('./data/fhv_tripdata_2021-01.parquet')\n",
    "df_feb = pd.read_parquet('./data/fhv_tripdata_2021-02.parquet')"
   ]
  },
  {
   "cell_type": "markdown",
   "id": "db2148bc",
   "metadata": {},
   "source": [
    "**Q1: Read the data for January. How many records are there?**"
   ]
  },
  {
   "cell_type": "code",
   "execution_count": 5,
   "id": "c4ce9c33",
   "metadata": {
    "scrolled": true
   },
   "outputs": [
    {
     "data": {
      "text/plain": [
       "(1154112, 7)"
      ]
     },
     "execution_count": 5,
     "metadata": {},
     "output_type": "execute_result"
    }
   ],
   "source": [
    "# your code here\n",
    "df_jan.shape"
   ]
  },
  {
   "cell_type": "code",
   "execution_count": 6,
   "id": "cd703f2a",
   "metadata": {},
   "outputs": [
    {
     "data": {
      "application/vnd.microsoft.datawrangler.viewer.v0+json": {
       "columns": [
        {
         "name": "index",
         "rawType": "int64",
         "type": "integer"
        },
        {
         "name": "dispatching_base_num",
         "rawType": "object",
         "type": "string"
        },
        {
         "name": "pickup_datetime",
         "rawType": "datetime64[us]",
         "type": "unknown"
        },
        {
         "name": "dropOff_datetime",
         "rawType": "datetime64[us]",
         "type": "unknown"
        },
        {
         "name": "PUlocationID",
         "rawType": "float64",
         "type": "float"
        },
        {
         "name": "DOlocationID",
         "rawType": "float64",
         "type": "float"
        },
        {
         "name": "SR_Flag",
         "rawType": "object",
         "type": "unknown"
        },
        {
         "name": "Affiliated_base_number",
         "rawType": "object",
         "type": "string"
        }
       ],
       "ref": "37ce5d55-5912-4cd1-a844-56f74de3d2a4",
       "rows": [
        [
         "0",
         "B00009",
         "2021-01-01 00:27:00",
         "2021-01-01 00:44:00",
         null,
         null,
         null,
         "B00009"
        ],
        [
         "1",
         "B00009",
         "2021-01-01 00:50:00",
         "2021-01-01 01:07:00",
         null,
         null,
         null,
         "B00009"
        ],
        [
         "2",
         "B00013",
         "2021-01-01 00:01:00",
         "2021-01-01 01:51:00",
         null,
         null,
         null,
         "B00013"
        ],
        [
         "3",
         "B00037",
         "2021-01-01 00:13:09",
         "2021-01-01 00:21:26",
         null,
         "72.0",
         null,
         "B00037"
        ],
        [
         "4",
         "B00037",
         "2021-01-01 00:38:31",
         "2021-01-01 00:53:44",
         null,
         "61.0",
         null,
         "B00037"
        ]
       ],
       "shape": {
        "columns": 7,
        "rows": 5
       }
      },
      "text/html": [
       "<div>\n",
       "<style scoped>\n",
       "    .dataframe tbody tr th:only-of-type {\n",
       "        vertical-align: middle;\n",
       "    }\n",
       "\n",
       "    .dataframe tbody tr th {\n",
       "        vertical-align: top;\n",
       "    }\n",
       "\n",
       "    .dataframe thead th {\n",
       "        text-align: right;\n",
       "    }\n",
       "</style>\n",
       "<table border=\"1\" class=\"dataframe\">\n",
       "  <thead>\n",
       "    <tr style=\"text-align: right;\">\n",
       "      <th></th>\n",
       "      <th>dispatching_base_num</th>\n",
       "      <th>pickup_datetime</th>\n",
       "      <th>dropOff_datetime</th>\n",
       "      <th>PUlocationID</th>\n",
       "      <th>DOlocationID</th>\n",
       "      <th>SR_Flag</th>\n",
       "      <th>Affiliated_base_number</th>\n",
       "    </tr>\n",
       "  </thead>\n",
       "  <tbody>\n",
       "    <tr>\n",
       "      <th>0</th>\n",
       "      <td>B00009</td>\n",
       "      <td>2021-01-01 00:27:00</td>\n",
       "      <td>2021-01-01 00:44:00</td>\n",
       "      <td>NaN</td>\n",
       "      <td>NaN</td>\n",
       "      <td>None</td>\n",
       "      <td>B00009</td>\n",
       "    </tr>\n",
       "    <tr>\n",
       "      <th>1</th>\n",
       "      <td>B00009</td>\n",
       "      <td>2021-01-01 00:50:00</td>\n",
       "      <td>2021-01-01 01:07:00</td>\n",
       "      <td>NaN</td>\n",
       "      <td>NaN</td>\n",
       "      <td>None</td>\n",
       "      <td>B00009</td>\n",
       "    </tr>\n",
       "    <tr>\n",
       "      <th>2</th>\n",
       "      <td>B00013</td>\n",
       "      <td>2021-01-01 00:01:00</td>\n",
       "      <td>2021-01-01 01:51:00</td>\n",
       "      <td>NaN</td>\n",
       "      <td>NaN</td>\n",
       "      <td>None</td>\n",
       "      <td>B00013</td>\n",
       "    </tr>\n",
       "    <tr>\n",
       "      <th>3</th>\n",
       "      <td>B00037</td>\n",
       "      <td>2021-01-01 00:13:09</td>\n",
       "      <td>2021-01-01 00:21:26</td>\n",
       "      <td>NaN</td>\n",
       "      <td>72.0</td>\n",
       "      <td>None</td>\n",
       "      <td>B00037</td>\n",
       "    </tr>\n",
       "    <tr>\n",
       "      <th>4</th>\n",
       "      <td>B00037</td>\n",
       "      <td>2021-01-01 00:38:31</td>\n",
       "      <td>2021-01-01 00:53:44</td>\n",
       "      <td>NaN</td>\n",
       "      <td>61.0</td>\n",
       "      <td>None</td>\n",
       "      <td>B00037</td>\n",
       "    </tr>\n",
       "  </tbody>\n",
       "</table>\n",
       "</div>"
      ],
      "text/plain": [
       "  dispatching_base_num     pickup_datetime    dropOff_datetime  PUlocationID  \\\n",
       "0               B00009 2021-01-01 00:27:00 2021-01-01 00:44:00           NaN   \n",
       "1               B00009 2021-01-01 00:50:00 2021-01-01 01:07:00           NaN   \n",
       "2               B00013 2021-01-01 00:01:00 2021-01-01 01:51:00           NaN   \n",
       "3               B00037 2021-01-01 00:13:09 2021-01-01 00:21:26           NaN   \n",
       "4               B00037 2021-01-01 00:38:31 2021-01-01 00:53:44           NaN   \n",
       "\n",
       "   DOlocationID SR_Flag Affiliated_base_number  \n",
       "0           NaN    None                 B00009  \n",
       "1           NaN    None                 B00009  \n",
       "2           NaN    None                 B00013  \n",
       "3          72.0    None                 B00037  \n",
       "4          61.0    None                 B00037  "
      ]
     },
     "execution_count": 6,
     "metadata": {},
     "output_type": "execute_result"
    }
   ],
   "source": [
    "df_jan.head()\n"
   ]
  },
  {
   "cell_type": "code",
   "execution_count": 7,
   "id": "37d0adfa",
   "metadata": {},
   "outputs": [
    {
     "data": {
      "application/vnd.microsoft.datawrangler.viewer.v0+json": {
       "columns": [
        {
         "name": "index",
         "rawType": "object",
         "type": "string"
        },
        {
         "name": "0",
         "rawType": "int64",
         "type": "integer"
        }
       ],
       "ref": "e141eb04-61ae-4864-9d70-a5f332a3407e",
       "rows": [
        [
         "dispatching_base_num",
         "0"
        ],
        [
         "pickup_datetime",
         "0"
        ],
        [
         "dropOff_datetime",
         "0"
        ],
        [
         "PUlocationID",
         "958267"
        ],
        [
         "DOlocationID",
         "162220"
        ],
        [
         "SR_Flag",
         "1154112"
        ],
        [
         "Affiliated_base_number",
         "885"
        ]
       ],
       "shape": {
        "columns": 1,
        "rows": 7
       }
      },
      "text/plain": [
       "dispatching_base_num            0\n",
       "pickup_datetime                 0\n",
       "dropOff_datetime                0\n",
       "PUlocationID               958267\n",
       "DOlocationID               162220\n",
       "SR_Flag                   1154112\n",
       "Affiliated_base_number        885\n",
       "dtype: int64"
      ]
     },
     "execution_count": 7,
     "metadata": {},
     "output_type": "execute_result"
    }
   ],
   "source": [
    "df_jan.isnull().sum()"
   ]
  },
  {
   "cell_type": "code",
   "execution_count": 8,
   "id": "0b1493c5",
   "metadata": {},
   "outputs": [
    {
     "name": "stdout",
     "output_type": "stream",
     "text": [
      "<class 'pandas.core.frame.DataFrame'>\n",
      "RangeIndex: 1154112 entries, 0 to 1154111\n",
      "Data columns (total 7 columns):\n",
      " #   Column                  Non-Null Count    Dtype         \n",
      "---  ------                  --------------    -----         \n",
      " 0   dispatching_base_num    1154112 non-null  object        \n",
      " 1   pickup_datetime         1154112 non-null  datetime64[us]\n",
      " 2   dropOff_datetime        1154112 non-null  datetime64[us]\n",
      " 3   PUlocationID            195845 non-null   float64       \n",
      " 4   DOlocationID            991892 non-null   float64       \n",
      " 5   SR_Flag                 0 non-null        object        \n",
      " 6   Affiliated_base_number  1153227 non-null  object        \n",
      "dtypes: datetime64[us](2), float64(2), object(3)\n",
      "memory usage: 61.6+ MB\n"
     ]
    }
   ],
   "source": [
    "df_jan.info()"
   ]
  },
  {
   "cell_type": "code",
   "execution_count": 9,
   "id": "305cd348",
   "metadata": {},
   "outputs": [
    {
     "name": "stdout",
     "output_type": "stream",
     "text": [
      "There are 1154112 rows and 7 columns in the January 2021 FHV trip data.\n"
     ]
    }
   ],
   "source": [
    "print(f\"There are {df_jan.shape[0]} rows and {df_jan.shape[1]} columns in the January 2021 FHV trip data.\")"
   ]
  },
  {
   "cell_type": "markdown",
   "id": "53edf473",
   "metadata": {},
   "source": [
    "**Q2: What's the average trip duration in January?**"
   ]
  },
  {
   "cell_type": "code",
   "execution_count": 10,
   "id": "9c977364",
   "metadata": {},
   "outputs": [
    {
     "data": {
      "application/vnd.microsoft.datawrangler.viewer.v0+json": {
       "columns": [
        {
         "name": "index",
         "rawType": "int64",
         "type": "integer"
        },
        {
         "name": "trip_duration",
         "rawType": "timedelta64[us]",
         "type": "unknown"
        }
       ],
       "ref": "2a35a674-38d8-4460-8863-5914f80e6895",
       "rows": [
        [
         "0",
         "0 days 00:17:00"
        ],
        [
         "1",
         "0 days 00:17:00"
        ],
        [
         "2",
         "0 days 01:50:00"
        ],
        [
         "3",
         "0 days 00:08:17"
        ],
        [
         "4",
         "0 days 00:15:13"
        ],
        [
         "5",
         "0 days 00:09:03"
        ],
        [
         "6",
         "0 days 00:11:52"
        ],
        [
         "7",
         "0 days 00:08:53"
        ],
        [
         "8",
         "0 days 00:17:58"
        ],
        [
         "9",
         "0 days 00:23:22"
        ],
        [
         "10",
         "0 days 00:02:02"
        ],
        [
         "11",
         "0 days 00:04:19"
        ],
        [
         "12",
         "0 days 00:14:11"
        ],
        [
         "13",
         "0 days 00:03:03"
        ],
        [
         "14",
         "0 days 00:10:42"
        ],
        [
         "15",
         "0 days 00:11:10"
        ],
        [
         "16",
         "0 days 01:01:00"
        ],
        [
         "17",
         "0 days 00:21:32"
        ],
        [
         "18",
         "0 days 00:10:14"
        ],
        [
         "19",
         "0 days 00:00:06"
        ],
        [
         "20",
         "0 days 00:33:08"
        ],
        [
         "21",
         "0 days 00:00:04"
        ],
        [
         "22",
         "0 days 00:23:33"
        ],
        [
         "23",
         "0 days 00:29:53"
        ],
        [
         "24",
         "0 days 00:00:03"
        ],
        [
         "25",
         "0 days 00:08:39"
        ],
        [
         "26",
         "0 days 00:06:24"
        ],
        [
         "27",
         "0 days 00:06:39"
        ],
        [
         "28",
         "0 days 00:09:17"
        ],
        [
         "29",
         "0 days 00:09:32"
        ],
        [
         "30",
         "0 days 00:13:51"
        ],
        [
         "31",
         "0 days 00:13:01"
        ],
        [
         "32",
         "0 days 00:00:04"
        ],
        [
         "33",
         "0 days 00:08:29"
        ],
        [
         "34",
         "0 days 00:16:20"
        ],
        [
         "35",
         "0 days 00:28:05"
        ],
        [
         "36",
         "0 days 00:22:50"
        ],
        [
         "37",
         "0 days 00:17:12"
        ],
        [
         "38",
         "0 days 00:10:22"
        ],
        [
         "39",
         "0 days 00:06:13"
        ],
        [
         "40",
         "0 days 00:04:41"
        ],
        [
         "41",
         "0 days 00:04:15"
        ],
        [
         "42",
         "0 days 00:05:28"
        ],
        [
         "43",
         "0 days 00:18:58"
        ],
        [
         "44",
         "0 days 00:20:30"
        ],
        [
         "45",
         "0 days 00:40:20"
        ],
        [
         "46",
         "0 days 00:47:13"
        ],
        [
         "47",
         "0 days 00:22:42"
        ],
        [
         "48",
         "0 days 00:34:03"
        ],
        [
         "49",
         "0 days 00:13:56"
        ]
       ],
       "shape": {
        "columns": 1,
        "rows": 1154112
       }
      },
      "text/plain": [
       "0         0 days 00:17:00\n",
       "1         0 days 00:17:00\n",
       "2         0 days 01:50:00\n",
       "3         0 days 00:08:17\n",
       "4         0 days 00:15:13\n",
       "                ...      \n",
       "1154107   0 days 00:08:45\n",
       "1154108   0 days 00:57:36\n",
       "1154109   0 days 00:16:12\n",
       "1154110   0 days 00:19:26\n",
       "1154111   0 days 00:36:00\n",
       "Name: trip_duration, Length: 1154112, dtype: timedelta64[us]"
      ]
     },
     "metadata": {},
     "output_type": "display_data"
    }
   ],
   "source": [
    "# your code here\n",
    "df_jan[\"trip_duration\"] = df_jan[\"dropOff_datetime\"]- df_jan[\"pickup_datetime\"]\n",
    "display(df_jan[\"trip_duration\"])"
   ]
  },
  {
   "cell_type": "code",
   "execution_count": 11,
   "id": "f73c5ba1",
   "metadata": {},
   "outputs": [
    {
     "data": {
      "text/plain": [
       "Timedelta('0 days 00:19:10.033445')"
      ]
     },
     "execution_count": 11,
     "metadata": {},
     "output_type": "execute_result"
    }
   ],
   "source": [
    "df_jan[\"trip_duration\"].mean()"
   ]
  },
  {
   "cell_type": "code",
   "execution_count": 12,
   "id": "4bddac1d",
   "metadata": {},
   "outputs": [
    {
     "name": "stdout",
     "output_type": "stream",
     "text": [
      "The average trip duration in January is 0 days 00:19:10.033445\n"
     ]
    }
   ],
   "source": [
    "print(f\"The average trip duration in January is {df_jan[\"trip_duration\"].mean()}\")"
   ]
  },
  {
   "cell_type": "markdown",
   "id": "3550dbfc",
   "metadata": {},
   "source": [
    "**Q3: How many records did you drop?**"
   ]
  },
  {
   "cell_type": "code",
   "execution_count": 13,
   "id": "5f7a9862",
   "metadata": {},
   "outputs": [
    {
     "name": "stdout",
     "output_type": "stream",
     "text": [
      "Missing values analysis:\n",
      "dispatching_base_num            0\n",
      "pickup_datetime                 0\n",
      "dropOff_datetime                0\n",
      "PUlocationID               958267\n",
      "DOlocationID               162220\n",
      "SR_Flag                   1154112\n",
      "Affiliated_base_number        885\n",
      "trip_duration                   0\n",
      "dtype: int64\n",
      "\n",
      "\n"
     ]
    }
   ],
   "source": [
    "print(\"Missing values analysis:\")\n",
    "print(df_jan.isnull().sum())\n",
    "print(\"\\n\")"
   ]
  },
  {
   "cell_type": "code",
   "execution_count": 14,
   "id": "a5975aa4",
   "metadata": {},
   "outputs": [
    {
     "name": "stdout",
     "output_type": "stream",
     "text": [
      "Before any processing:\n",
      "Total records: 1154112\n"
     ]
    }
   ],
   "source": [
    "print(\"Before any processing:\")\n",
    "print(f\"Total records: {len(df_jan)}\")"
   ]
  },
  {
   "cell_type": "code",
   "execution_count": 15,
   "id": "5ab84611",
   "metadata": {},
   "outputs": [
    {
     "name": "stdout",
     "output_type": "stream",
     "text": [
      "SR_Flag unique values:\n",
      "Series([], Name: count, dtype: int64)\n",
      "\n",
      "\n"
     ]
    }
   ],
   "source": [
    "print(\"SR_Flag unique values:\")\n",
    "print(df_jan['SR_Flag'].value_counts())\n",
    "print(\"\\n\")"
   ]
  },
  {
   "cell_type": "code",
   "execution_count": 16,
   "id": "8369a89f",
   "metadata": {},
   "outputs": [
    {
     "name": "stdout",
     "output_type": "stream",
     "text": [
      "After dropping SR_Flag: (1154112, 7)\n"
     ]
    }
   ],
   "source": [
    "# drop SR_Flag column (axis=1 drops columns; axis=0 would try to drop a row label)\n",
    "df_jan_clean = df_jan.drop('SR_Flag', axis=1)\n",
    "print(f\"After dropping SR_Flag: {df_jan_clean.shape}\")"
   ]
  },
  {
   "cell_type": "code",
   "execution_count": 17,
   "id": "952e87e1",
   "metadata": {},
   "outputs": [
    {
     "name": "stdout",
     "output_type": "stream",
     "text": [
      "Affiliated_base_number missing analysis:\n",
      "Missing: 885\n",
      "Total: 1154112\n",
      "Percentage missing: 0.08%\n"
     ]
    }
   ],
   "source": [
    "print(\"Affiliated_base_number missing analysis:\")\n",
    "print(f\"Missing: {df_jan_clean['Affiliated_base_number'].isna().sum()}\")\n",
    "print(f\"Total: {len(df_jan_clean)}\")\n",
    "print(f\"Percentage missing: {(df_jan_clean['Affiliated_base_number'].isna().sum() / len(df_jan_clean) * 100):.2f}%\")"
   ]
  },
  {
   "cell_type": "code",
   "execution_count": 18,
   "id": "af12f0dc",
   "metadata": {},
   "outputs": [
    {
     "name": "stdout",
     "output_type": "stream",
     "text": [
      "PUlocationID missing: 958267\n",
      "PUlocationID unique values sample: [ nan 236. 196.  60. 241.  18. 159. 252.  15. 165.]\n"
     ]
    }
   ],
   "source": [
    "print(f\"PUlocationID missing: {df_jan_clean['PUlocationID'].isna().sum()}\")\n",
    "print(f\"PUlocationID unique values sample: {df_jan_clean['PUlocationID'].unique()[:10]}\")"
   ]
  },
  {
   "cell_type": "code",
   "execution_count": 19,
   "id": "af30f52c",
   "metadata": {},
   "outputs": [
    {
     "name": "stdout",
     "output_type": "stream",
     "text": [
      "PUlocationID: 958267 missing values filled with -1\n",
      "DOlocationID: 162220 missing values filled with -1\n",
      "Affiliated_base_number: 885 missing values filled with -1\n"
     ]
    }
   ],
   "source": [
    "# Fill missing values with -1 (as the question suggests)\n",
    "\n",
    "columns_to_fill = ['PUlocationID', 'DOlocationID', 'Affiliated_base_number']\n",
    "df_jan_filled = df_jan_clean.copy()\n",
    "\n",
    "for column in columns_to_fill:\n",
    "    df_jan_filled[column] = df_jan_filled[column].fillna(-1)\n",
    "    missing_count = (df_jan_filled[column] == -1).sum()\n",
    "    print(f\"{column}: {missing_count} missing values filled with -1\")"
   ]
  },
  {
   "cell_type": "code",
   "execution_count": 20,
   "id": "fbcf02ae",
   "metadata": {},
   "outputs": [
    {
     "name": "stdout",
     "output_type": "stream",
     "text": [
      "\n",
      "Missing values after filling:\n",
      "dispatching_base_num      0\n",
      "pickup_datetime           0\n",
      "dropOff_datetime          0\n",
      "PUlocationID              0\n",
      "DOlocationID              0\n",
      "Affiliated_base_number    0\n",
      "trip_duration             0\n",
      "dtype: int64\n"
     ]
    }
   ],
   "source": [
    "# Verify no missing values remain\n",
    "print(f\"\\nMissing values after filling:\")\n",
    "print(df_jan_filled.isnull().sum())"
   ]
  },
  {
   "cell_type": "markdown",
   "id": "a664882c",
   "metadata": {},
   "source": [
    "**What's the fractions of missing values for the pickup location ID? I.e. fraction of \"-1\"s after you filled the NAs.**"
   ]
  },
  {
   "cell_type": "code",
   "execution_count": 21,
   "id": "15c0b8a2",
   "metadata": {},
   "outputs": [
    {
     "name": "stdout",
     "output_type": "stream",
     "text": [
      "\n",
      "Fraction of -1 values in PUlocationID (Q4 answer): 0.8303\n"
     ]
    }
   ],
   "source": [
    "pu_location_fraction = (df_jan_filled['PUlocationID'] == -1).sum() / len(df_jan_filled)\n",
    "print(f\"\\nFraction of -1 values in PUlocationID (Q4 answer): {pu_location_fraction:.4f}\")"
   ]
  },
  {
   "cell_type": "markdown",
   "id": "73f78dcb",
   "metadata": {},
   "source": [
    "**Q5: What's the dimensionality of this matrix? (The number of columns).**"
   ]
  },
  {
   "cell_type": "markdown",
   "id": "49999f2d",
   "metadata": {},
   "source": [
    "**We will predict trip duration time**"
   ]
  },
  {
   "cell_type": "code",
   "execution_count": 22,
   "id": "076cd229",
   "metadata": {},
   "outputs": [
    {
     "name": "stdout",
     "output_type": "stream",
     "text": [
      "Trip duration statistics (minutes):\n"
     ]
    },
    {
     "name": "stdout",
     "output_type": "stream",
     "text": [
      "count    1.154112e+06\n",
      "mean     1.916722e+01\n",
      "std      3.986922e+02\n",
      "min      1.666667e-02\n",
      "25%      7.766667e+00\n",
      "50%      1.340000e+01\n",
      "75%      2.228333e+01\n",
      "max      4.233710e+05\n",
      "Name: trip_duration_minutes, dtype: float64\n"
     ]
    }
   ],
   "source": [
    "df_jan_filled['trip_duration_minutes'] = df_jan_filled['trip_duration'].dt.total_seconds() / 60\n",
    "print(\"Trip duration statistics (minutes):\")\n",
    "print(df_jan_filled['trip_duration_minutes'].describe())"
   ]
  },
  {
   "cell_type": "code",
   "execution_count": 23,
   "id": "8b7fbe14",
   "metadata": {},
   "outputs": [
    {
     "name": "stdout",
     "output_type": "stream",
     "text": [
      "\n",
      "Filtered from 1154112 to 1135259 trips\n"
     ]
    }
   ],
   "source": [
    "# Remove unrealistic trips (too short or too long)\n",
    "df_filtered = df_jan_filled[(df_jan_filled['trip_duration_minutes'] > 1) & \n",
    "                           (df_jan_filled['trip_duration_minutes'] < 180)]\n",
    "print(f\"\\nFiltered from {len(df_jan_filled)} to {len(df_filtered)} trips\")"
   ]
  },
  {
   "cell_type": "code",
   "execution_count": 24,
   "id": "c22bf7a4",
   "metadata": {},
   "outputs": [
    {
     "name": "stdout",
     "output_type": "stream",
     "text": [
      "\n",
      "Features we'll use: ['PUlocationID', 'DOlocationID', 'dispatching_base_num', 'Affiliated_base_number']\n",
      "dispatching_base_num: 539 unique values\n",
      "Affiliated_base_number: 706 unique values\n"
     ]
    }
   ],
   "source": [
    "# Prepare features for ML\n",
    "features = ['PUlocationID', 'DOlocationID', 'dispatching_base_num', 'Affiliated_base_number']\n",
    "print(f\"\\nFeatures we'll use: {features}\")\n",
    "\n",
    "# Check how many unique values in categorical features\n",
    "for feature in ['dispatching_base_num', 'Affiliated_base_number']:\n",
    "    print(f\"{feature}: {df_filtered[feature].nunique()} unique values\")"
   ]
  },
  {
   "cell_type": "code",
   "execution_count": 25,
   "id": "58aae0b4",
   "metadata": {},
   "outputs": [
    {
     "name": "stdout",
     "output_type": "stream",
     "text": [
      "Categorical features before encoding:\n",
      "dispatching_base_num: 539 unique values\n",
      "Affiliated_base_number: 706 unique values\n",
      "PUlocationID: 262 unique values\n",
      "DOlocationID: 263 unique values\n"
     ]
    }
   ],
   "source": [
    "# First, let's see what categorical features we have\n",
    "print(\"Categorical features before encoding:\")\n",
    "categorical_cols = ['dispatching_base_num', 'Affiliated_base_number', 'PUlocationID', 'DOlocationID']\n",
    "\n",
    "for col in categorical_cols:\n",
    "    print(f\"{col}: {df_filtered[col].nunique()} unique values\")\n"
   ]
  },
  {
   "cell_type": "code",
   "execution_count": 26,
   "id": "a759a72a",
   "metadata": {},
   "outputs": [
    {
     "name": "stdout",
     "output_type": "stream",
     "text": [
      "\n",
      "--- One-Hot Encoding ---\n",
      "After one-hot encoding: 1770 columns\n"
     ]
    }
   ],
   "source": [
    "# Option 1: One-Hot Encoding (creates binary columns for each category)\n",
    "print(\"\\n--- One-Hot Encoding ---\")\n",
    "df_onehot = pd.get_dummies(df_filtered, columns=categorical_cols, prefix=categorical_cols, drop_first=True)\n",
    "print(f\"After one-hot encoding: {df_onehot.shape[1]} columns\")"
   ]
  },
  {
   "cell_type": "code",
   "execution_count": 27,
   "id": "a4c40c0e",
   "metadata": {},
   "outputs": [
    {
     "name": "stdout",
     "output_type": "stream",
     "text": [
      "\n",
      "--- Label Encoding ---\n",
      "dispatching_base_num: encoded into 539 unique numbers\n",
      "Affiliated_base_number: encoded into 706 unique numbers\n",
      "PUlocationID: encoded into 262 unique numbers\n",
      "DOlocationID: encoded into 263 unique numbers\n",
      "After label encoding: 12 columns\n"
     ]
    }
   ],
   "source": [
    "from sklearn.preprocessing import LabelEncoder\n",
    "\n",
    "# Option 2: Label Encoding (assigns a number to each category)\n",
    "print(\"\\n--- Label Encoding ---\")\n",
    "df_labeled = df_filtered.copy()\n",
    "\n",
    "label_encoders = {}\n",
    "for col in categorical_cols:\n",
    "    le = LabelEncoder()\n",
    "    df_labeled[col + '_encoded'] = le.fit_transform(df_labeled[col].astype(str))\n",
    "    label_encoders[col] = le\n",
    "    print(f\"{col}: encoded into {df_labeled[col + '_encoded'].nunique()} unique numbers\")\n",
    "\n",
    "print(f\"After label encoding: {df_labeled.shape[1]} columns\")\n"
   ]
  },
  {
   "cell_type": "code",
   "execution_count": 28,
   "id": "ac80f65b",
   "metadata": {},
   "outputs": [
    {
     "data": {
      "application/vnd.microsoft.datawrangler.viewer.v0+json": {
       "columns": [
        {
         "name": "index",
         "rawType": "int64",
         "type": "integer"
        },
        {
         "name": "dispatching_base_num",
         "rawType": "object",
         "type": "string"
        },
        {
         "name": "pickup_datetime",
         "rawType": "datetime64[us]",
         "type": "unknown"
        },
        {
         "name": "dropOff_datetime",
         "rawType": "datetime64[us]",
         "type": "unknown"
        },
        {
         "name": "PUlocationID",
         "rawType": "float64",
         "type": "float"
        },
        {
         "name": "DOlocationID",
         "rawType": "float64",
         "type": "float"
        },
        {
         "name": "Affiliated_base_number",
         "rawType": "object",
         "type": "unknown"
        },
        {
         "name": "trip_duration",
         "rawType": "timedelta64[us]",
         "type": "unknown"
        },
        {
         "name": "trip_duration_minutes",
         "rawType": "float64",
         "type": "float"
        },
        {
         "name": "dispatching_base_num_encoded",
         "rawType": "int64",
         "type": "integer"
        },
        {
         "name": "Affiliated_base_number_encoded",
         "rawType": "int64",
         "type": "integer"
        },
        {
         "name": "PUlocationID_encoded",
         "rawType": "int64",
         "type": "integer"
        },
        {
         "name": "DOlocationID_encoded",
         "rawType": "int64",
         "type": "integer"
        }
       ],
       "ref": "0e79dbd9-5df7-4b63-aa0d-790add6e29e5",
       "rows": [
        [
         "0",
         "B00009",
         "2021-01-01 00:27:00",
         "2021-01-01 00:44:00",
         "-1.0",
         "-1.0",
         "B00009",
         "0 days 00:17:00",
         "17.0",
         "2",
         "8",
         "0",
         "0"
        ],
        [
         "1",
         "B00009",
         "2021-01-01 00:50:00",
         "2021-01-01 01:07:00",
         "-1.0",
         "-1.0",
         "B00009",
         "0 days 00:17:00",
         "17.0",
         "2",
         "8",
         "0",
         "0"
        ],
        [
         "2",
         "B00013",
         "2021-01-01 00:01:00",
         "2021-01-01 01:51:00",
         "-1.0",
         "-1.0",
         "B00013",
         "0 days 01:50:00",
         "110.0",
         "3",
         "9",
         "0",
         "0"
        ],
        [
         "3",
         "B00037",
         "2021-01-01 00:13:09",
         "2021-01-01 00:21:26",
         "-1.0",
         "72.0",
         "B00037",
         "0 days 00:08:17",
         "8.283333333333333",
         "6",
         "12",
         "0",
         "233"
        ],
        [
         "4",
         "B00037",
         "2021-01-01 00:38:31",
         "2021-01-01 00:53:44",
         "-1.0",
         "61.0",
         "B00037",
         "0 days 00:15:13",
         "15.216666666666667",
         "6",
         "12",
         "0",
         "221"
        ],
        [
         "5",
         "B00037",
         "2021-01-01 00:59:02",
         "2021-01-01 01:08:05",
         "-1.0",
         "71.0",
         "B00037",
         "0 days 00:09:03",
         "9.05",
         "6",
         "12",
         "0",
         "232"
        ],
        [
         "6",
         "B00037",
         "2021-01-01 00:18:12",
         "2021-01-01 00:30:04",
         "-1.0",
         "91.0",
         "B00037",
         "0 days 00:11:52",
         "11.866666666666667",
         "6",
         "12",
         "0",
         "254"
        ],
        [
         "7",
         "B00037",
         "2021-01-01 00:36:15",
         "2021-01-01 00:45:08",
         "-1.0",
         "39.0",
         "B00037",
         "0 days 00:08:53",
         "8.883333333333333",
         "6",
         "12",
         "0",
         "196"
        ],
        [
         "8",
         "B00037",
         "2021-01-01 00:55:04",
         "2021-01-01 01:13:02",
         "-1.0",
         "37.0",
         "B00037",
         "0 days 00:17:58",
         "17.966666666666665",
         "6",
         "12",
         "0",
         "194"
        ],
        [
         "9",
         "B00037",
         "2021-01-01 00:48:40",
         "2021-01-01 01:12:02",
         "-1.0",
         "39.0",
         "B00037",
         "0 days 00:23:22",
         "23.366666666666667",
         "6",
         "12",
         "0",
         "196"
        ],
        [
         "10",
         "B00037",
         "2021-01-01 00:27:23",
         "2021-01-01 00:29:25",
         "-1.0",
         "72.0",
         "B00037",
         "0 days 00:02:02",
         "2.033333333333333",
         "6",
         "12",
         "0",
         "233"
        ],
        [
         "11",
         "B00037",
         "2021-01-01 00:39:07",
         "2021-01-01 00:43:26",
         "-1.0",
         "72.0",
         "B00037",
         "0 days 00:04:19",
         "4.316666666666666",
         "6",
         "12",
         "0",
         "233"
        ],
        [
         "12",
         "B00037",
         "2021-01-01 00:55:57",
         "2021-01-01 01:10:08",
         "-1.0",
         "89.0",
         "B00037",
         "0 days 00:14:11",
         "14.183333333333334",
         "6",
         "12",
         "0",
         "251"
        ],
        [
         "13",
         "B00095",
         "2021-01-01 00:17:54",
         "2021-01-01 00:20:57",
         "-1.0",
         "177.0",
         "B00095",
         "0 days 00:03:03",
         "3.05",
         "9",
         "15",
         "0",
         "84"
        ],
        [
         "14",
         "B00095",
         "2021-01-01 00:31:59",
         "2021-01-01 00:42:41",
         "-1.0",
         "225.0",
         "B00095",
         "0 days 00:10:42",
         "10.7",
         "9",
         "15",
         "0",
         "138"
        ],
        [
         "15",
         "B00095",
         "2021-01-01 00:46:23",
         "2021-01-01 00:57:33",
         "-1.0",
         "63.0",
         "B00095",
         "0 days 00:11:10",
         "11.166666666666666",
         "9",
         "15",
         "0",
         "223"
        ],
        [
         "16",
         "B00111",
         "2021-01-01 00:40:00",
         "2021-01-01 01:41:00",
         "-1.0",
         "-1.0",
         "B03234",
         "0 days 01:01:00",
         "61.0",
         "10",
         "642",
         "0",
         "0"
        ],
        [
         "17",
         "B00112",
         "2021-01-01 00:21:10",
         "2021-01-01 00:42:42",
         "-1.0",
         "67.0",
         "B00112",
         "0 days 00:21:32",
         "21.533333333333335",
         "11",
         "17",
         "0",
         "227"
        ],
        [
         "18",
         "B00112",
         "2021-01-01 00:53:10",
         "2021-01-01 01:03:24",
         "-1.0",
         "22.0",
         "B00112",
         "0 days 00:10:14",
         "10.233333333333333",
         "11",
         "17",
         "0",
         "132"
        ],
        [
         "20",
         "B00112",
         "2021-01-01 00:42:38",
         "2021-01-01 01:15:46",
         "-1.0",
         "61.0",
         "B00112",
         "0 days 00:33:08",
         "33.13333333333333",
         "11",
         "17",
         "0",
         "221"
        ],
        [
         "22",
         "B00112",
         "2021-01-01 00:54:48",
         "2021-01-01 01:18:21",
         "-1.0",
         "14.0",
         "B00112",
         "0 days 00:23:33",
         "23.55",
         "11",
         "17",
         "0",
         "43"
        ],
        [
         "23",
         "B00112",
         "2021-01-01 00:21:47",
         "2021-01-01 00:51:40",
         "-1.0",
         "14.0",
         "B00112",
         "0 days 00:29:53",
         "29.883333333333333",
         "11",
         "17",
         "0",
         "43"
        ],
        [
         "25",
         "B00149",
         "2021-01-01 00:08:11",
         "2021-01-01 00:16:50",
         "-1.0",
         "188.0",
         "B00149",
         "0 days 00:08:39",
         "8.65",
         "13",
         "19",
         "0",
         "96"
        ],
        [
         "26",
         "B00149",
         "2021-01-01 00:29:21",
         "2021-01-01 00:35:45",
         "-1.0",
         "72.0",
         "B00149",
         "0 days 00:06:24",
         "6.4",
         "13",
         "19",
         "0",
         "233"
        ],
        [
         "27",
         "B00149",
         "2021-01-01 00:44:50",
         "2021-01-01 00:51:29",
         "-1.0",
         "225.0",
         "B00149",
         "0 days 00:06:39",
         "6.65",
         "13",
         "19",
         "0",
         "138"
        ],
        [
         "28",
         "B00149",
         "2021-01-01 00:59:27",
         "2021-01-01 01:08:44",
         "-1.0",
         "61.0",
         "B00149",
         "0 days 00:09:17",
         "9.283333333333333",
         "13",
         "19",
         "0",
         "221"
        ],
        [
         "29",
         "B00149",
         "2021-01-01 00:07:00",
         "2021-01-01 00:16:32",
         "-1.0",
         "72.0",
         "B00149",
         "0 days 00:09:32",
         "9.533333333333333",
         "13",
         "19",
         "0",
         "233"
        ],
        [
         "30",
         "B00149",
         "2021-01-01 00:21:54",
         "2021-01-01 00:35:45",
         "-1.0",
         "61.0",
         "B00149",
         "0 days 00:13:51",
         "13.85",
         "13",
         "19",
         "0",
         "221"
        ],
        [
         "31",
         "B00149",
         "2021-01-01 00:42:51",
         "2021-01-01 00:55:52",
         "-1.0",
         "35.0",
         "B00149",
         "0 days 00:13:01",
         "13.016666666666667",
         "13",
         "19",
         "0",
         "192"
        ],
        [
         "33",
         "B00221",
         "2021-01-01 00:49:46",
         "2021-01-01 00:58:15",
         "-1.0",
         "14.0",
         "B00221",
         "0 days 00:08:29",
         "8.483333333333333",
         "20",
         "25",
         "0",
         "43"
        ],
        [
         "34",
         "B00225",
         "2021-01-01 00:57:27",
         "2021-01-01 01:13:47",
         "-1.0",
         "63.0",
         "B00053",
         "0 days 00:16:20",
         "16.333333333333332",
         "22",
         "13",
         "0",
         "223"
        ],
        [
         "35",
         "B00225",
         "2021-01-01 00:55:45",
         "2021-01-01 01:23:50",
         "-1.0",
         "122.0",
         "B02876",
         "0 days 00:28:05",
         "28.083333333333332",
         "22",
         "474",
         "0",
         "24"
        ],
        [
         "36",
         "B00225",
         "2021-01-01 00:18:38",
         "2021-01-01 00:41:28",
         "-1.0",
         "168.0",
         "B02884",
         "0 days 00:22:50",
         "22.833333333333332",
         "22",
         "482",
         "0",
         "74"
        ],
        [
         "37",
         "B00225",
         "2021-01-01 00:15:54",
         "2021-01-01 00:33:06",
         "-1.0",
         "61.0",
         "B02765",
         "0 days 00:17:12",
         "17.2",
         "22",
         "419",
         "0",
         "221"
        ],
        [
         "38",
         "B00225",
         "2021-01-01 00:43:11",
         "2021-01-01 00:53:33",
         "-1.0",
         "77.0",
         "B02765",
         "0 days 00:10:22",
         "10.366666666666667",
         "22",
         "419",
         "0",
         "238"
        ],
        [
         "39",
         "B00254",
         "2021-01-01 00:21:20",
         "2021-01-01 00:27:33",
         "236.0",
         "237.0",
         "B00254",
         "0 days 00:06:13",
         "6.216666666666667",
         "25",
         "31",
         "149",
         "151"
        ],
        [
         "40",
         "B00256",
         "2021-01-01 00:26:01",
         "2021-01-01 00:30:42",
         "-1.0",
         "-1.0",
         "B00256",
         "0 days 00:04:41",
         "4.683333333333334",
         "27",
         "33",
         "0",
         "0"
        ],
        [
         "41",
         "B00256",
         "2021-01-01 00:39:57",
         "2021-01-01 00:44:12",
         "-1.0",
         "-1.0",
         "B00256",
         "0 days 00:04:15",
         "4.25",
         "27",
         "33",
         "0",
         "0"
        ],
        [
         "42",
         "B00256",
         "2021-01-01 00:29:56",
         "2021-01-01 00:35:24",
         "-1.0",
         "-1.0",
         "B00256",
         "0 days 00:05:28",
         "5.466666666666667",
         "27",
         "33",
         "0",
         "0"
        ],
        [
         "43",
         "B00256",
         "2021-01-01 00:37:10",
         "2021-01-01 00:56:08",
         "-1.0",
         "-1.0",
         "B00256",
         "0 days 00:18:58",
         "18.966666666666665",
         "27",
         "33",
         "0",
         "0"
        ],
        [
         "44",
         "B00256",
         "2021-01-01 00:13:20",
         "2021-01-01 00:33:50",
         "-1.0",
         "-1.0",
         "B00256",
         "0 days 00:20:30",
         "20.5",
         "27",
         "33",
         "0",
         "0"
        ],
        [
         "45",
         "B00256",
         "2021-01-01 00:34:25",
         "2021-01-01 01:14:45",
         "-1.0",
         "-1.0",
         "B00256",
         "0 days 00:40:20",
         "40.333333333333336",
         "27",
         "33",
         "0",
         "0"
        ],
        [
         "46",
         "B00256",
         "2021-01-01 00:59:13",
         "2021-01-01 01:46:26",
         "-1.0",
         "-1.0",
         "B00256",
         "0 days 00:47:13",
         "47.21666666666667",
         "27",
         "33",
         "0",
         "0"
        ],
        [
         "47",
         "B00256",
         "2021-01-01 00:59:25",
         "2021-01-01 01:22:07",
         "-1.0",
         "-1.0",
         "B00256",
         "0 days 00:22:42",
         "22.7",
         "27",
         "33",
         "0",
         "0"
        ],
        [
         "48",
         "B00256",
         "2021-01-01 00:34:03",
         "2021-01-01 01:08:06",
         "-1.0",
         "-1.0",
         "B00256",
         "0 days 00:34:03",
         "34.05",
         "27",
         "33",
         "0",
         "0"
        ],
        [
         "49",
         "B00256",
         "2021-01-01 00:10:02",
         "2021-01-01 00:23:58",
         "-1.0",
         "-1.0",
         "B00256",
         "0 days 00:13:56",
         "13.933333333333334",
         "27",
         "33",
         "0",
         "0"
        ],
        [
         "50",
         "B00256",
         "2021-01-01 00:27:11",
         "2021-01-01 00:49:36",
         "-1.0",
         "-1.0",
         "B00887",
         "0 days 00:22:25",
         "22.416666666666668",
         "27",
         "93",
         "0",
         "0"
        ],
        [
         "51",
         "B00290         ",
         "2021-01-01 00:51:35",
         "2021-01-01 01:04:45",
         "196.0",
         "196.0",
         "B00290         ",
         "0 days 00:13:10",
         "13.166666666666666",
         "32",
         "38",
         "105",
         "105"
        ],
        [
         "52",
         "B00310",
         "2021-01-01 00:08:04",
         "2021-01-01 00:18:25",
         "-1.0",
         "60.0",
         "B00310",
         "0 days 00:10:21",
         "10.35",
         "34",
         "41",
         "0",
         "220"
        ],
        [
         "53",
         "B00310",
         "2021-01-01 00:21:22",
         "2021-01-01 00:28:53",
         "-1.0",
         "126.0",
         "B00310",
         "0 days 00:07:31",
         "7.516666666666667",
         "34",
         "41",
         "0",
         "28"
        ]
       ],
       "shape": {
        "columns": 12,
        "rows": 1135259
       }
      },
      "text/html": [
       "<div>\n",
       "<style scoped>\n",
       "    .dataframe tbody tr th:only-of-type {\n",
       "        vertical-align: middle;\n",
       "    }\n",
       "\n",
       "    .dataframe tbody tr th {\n",
       "        vertical-align: top;\n",
       "    }\n",
       "\n",
       "    .dataframe thead th {\n",
       "        text-align: right;\n",
       "    }\n",
       "</style>\n",
       "<table border=\"1\" class=\"dataframe\">\n",
       "  <thead>\n",
       "    <tr style=\"text-align: right;\">\n",
       "      <th></th>\n",
       "      <th>dispatching_base_num</th>\n",
       "      <th>pickup_datetime</th>\n",
       "      <th>dropOff_datetime</th>\n",
       "      <th>PUlocationID</th>\n",
       "      <th>DOlocationID</th>\n",
       "      <th>Affiliated_base_number</th>\n",
       "      <th>trip_duration</th>\n",
       "      <th>trip_duration_minutes</th>\n",
       "      <th>dispatching_base_num_encoded</th>\n",
       "      <th>Affiliated_base_number_encoded</th>\n",
       "      <th>PUlocationID_encoded</th>\n",
       "      <th>DOlocationID_encoded</th>\n",
       "    </tr>\n",
       "  </thead>\n",
       "  <tbody>\n",
       "    <tr>\n",
       "      <th>0</th>\n",
       "      <td>B00009</td>\n",
       "      <td>2021-01-01 00:27:00</td>\n",
       "      <td>2021-01-01 00:44:00</td>\n",
       "      <td>-1.0</td>\n",
       "      <td>-1.0</td>\n",
       "      <td>B00009</td>\n",
       "      <td>0 days 00:17:00</td>\n",
       "      <td>17.000000</td>\n",
       "      <td>2</td>\n",
       "      <td>8</td>\n",
       "      <td>0</td>\n",
       "      <td>0</td>\n",
       "    </tr>\n",
       "    <tr>\n",
       "      <th>1</th>\n",
       "      <td>B00009</td>\n",
       "      <td>2021-01-01 00:50:00</td>\n",
       "      <td>2021-01-01 01:07:00</td>\n",
       "      <td>-1.0</td>\n",
       "      <td>-1.0</td>\n",
       "      <td>B00009</td>\n",
       "      <td>0 days 00:17:00</td>\n",
       "      <td>17.000000</td>\n",
       "      <td>2</td>\n",
       "      <td>8</td>\n",
       "      <td>0</td>\n",
       "      <td>0</td>\n",
       "    </tr>\n",
       "    <tr>\n",
       "      <th>2</th>\n",
       "      <td>B00013</td>\n",
       "      <td>2021-01-01 00:01:00</td>\n",
       "      <td>2021-01-01 01:51:00</td>\n",
       "      <td>-1.0</td>\n",
       "      <td>-1.0</td>\n",
       "      <td>B00013</td>\n",
       "      <td>0 days 01:50:00</td>\n",
       "      <td>110.000000</td>\n",
       "      <td>3</td>\n",
       "      <td>9</td>\n",
       "      <td>0</td>\n",
       "      <td>0</td>\n",
       "    </tr>\n",
       "    <tr>\n",
       "      <th>3</th>\n",
       "      <td>B00037</td>\n",
       "      <td>2021-01-01 00:13:09</td>\n",
       "      <td>2021-01-01 00:21:26</td>\n",
       "      <td>-1.0</td>\n",
       "      <td>72.0</td>\n",
       "      <td>B00037</td>\n",
       "      <td>0 days 00:08:17</td>\n",
       "      <td>8.283333</td>\n",
       "      <td>6</td>\n",
       "      <td>12</td>\n",
       "      <td>0</td>\n",
       "      <td>233</td>\n",
       "    </tr>\n",
       "    <tr>\n",
       "      <th>4</th>\n",
       "      <td>B00037</td>\n",
       "      <td>2021-01-01 00:38:31</td>\n",
       "      <td>2021-01-01 00:53:44</td>\n",
       "      <td>-1.0</td>\n",
       "      <td>61.0</td>\n",
       "      <td>B00037</td>\n",
       "      <td>0 days 00:15:13</td>\n",
       "      <td>15.216667</td>\n",
       "      <td>6</td>\n",
       "      <td>12</td>\n",
       "      <td>0</td>\n",
       "      <td>221</td>\n",
       "    </tr>\n",
       "    <tr>\n",
       "      <th>...</th>\n",
       "      <td>...</td>\n",
       "      <td>...</td>\n",
       "      <td>...</td>\n",
       "      <td>...</td>\n",
       "      <td>...</td>\n",
       "      <td>...</td>\n",
       "      <td>...</td>\n",
       "      <td>...</td>\n",
       "      <td>...</td>\n",
       "      <td>...</td>\n",
       "      <td>...</td>\n",
       "      <td>...</td>\n",
       "    </tr>\n",
       "    <tr>\n",
       "      <th>1154107</th>\n",
       "      <td>B03266</td>\n",
       "      <td>2021-01-31 23:43:03</td>\n",
       "      <td>2021-01-31 23:51:48</td>\n",
       "      <td>7.0</td>\n",
       "      <td>7.0</td>\n",
       "      <td>B03266</td>\n",
       "      <td>0 days 00:08:45</td>\n",
       "      <td>8.750000</td>\n",
       "      <td>511</td>\n",
       "      <td>655</td>\n",
       "      <td>229</td>\n",
       "      <td>230</td>\n",
       "    </tr>\n",
       "    <tr>\n",
       "      <th>1154108</th>\n",
       "      <td>B03284</td>\n",
       "      <td>2021-01-31 23:50:27</td>\n",
       "      <td>2021-02-01 00:48:03</td>\n",
       "      <td>44.0</td>\n",
       "      <td>91.0</td>\n",
       "      <td></td>\n",
       "      <td>0 days 00:57:36</td>\n",
       "      <td>57.600000</td>\n",
       "      <td>520</td>\n",
       "      <td>0</td>\n",
       "      <td>201</td>\n",
       "      <td>254</td>\n",
       "    </tr>\n",
       "    <tr>\n",
       "      <th>1154109</th>\n",
       "      <td>B03285</td>\n",
       "      <td>2021-01-31 23:13:46</td>\n",
       "      <td>2021-01-31 23:29:58</td>\n",
       "      <td>171.0</td>\n",
       "      <td>171.0</td>\n",
       "      <td>B03285</td>\n",
       "      <td>0 days 00:16:12</td>\n",
       "      <td>16.200000</td>\n",
       "      <td>521</td>\n",
       "      <td>668</td>\n",
       "      <td>78</td>\n",
       "      <td>78</td>\n",
       "    </tr>\n",
       "    <tr>\n",
       "      <th>1154110</th>\n",
       "      <td>B03285</td>\n",
       "      <td>2021-01-31 23:58:03</td>\n",
       "      <td>2021-02-01 00:17:29</td>\n",
       "      <td>15.0</td>\n",
       "      <td>15.0</td>\n",
       "      <td>B03285</td>\n",
       "      <td>0 days 00:19:26</td>\n",
       "      <td>19.433333</td>\n",
       "      <td>521</td>\n",
       "      <td>668</td>\n",
       "      <td>54</td>\n",
       "      <td>54</td>\n",
       "    </tr>\n",
       "    <tr>\n",
       "      <th>1154111</th>\n",
       "      <td>B03321</td>\n",
       "      <td>2021-01-31 23:39:00</td>\n",
       "      <td>2021-02-01 00:15:00</td>\n",
       "      <td>-1.0</td>\n",
       "      <td>-1.0</td>\n",
       "      <td>B03321</td>\n",
       "      <td>0 days 00:36:00</td>\n",
       "      <td>36.000000</td>\n",
       "      <td>534</td>\n",
       "      <td>686</td>\n",
       "      <td>0</td>\n",
       "      <td>0</td>\n",
       "    </tr>\n",
       "  </tbody>\n",
       "</table>\n",
       "<p>1135259 rows × 12 columns</p>\n",
       "</div>"
      ],
      "text/plain": [
       "        dispatching_base_num     pickup_datetime    dropOff_datetime  \\\n",
       "0                     B00009 2021-01-01 00:27:00 2021-01-01 00:44:00   \n",
       "1                     B00009 2021-01-01 00:50:00 2021-01-01 01:07:00   \n",
       "2                     B00013 2021-01-01 00:01:00 2021-01-01 01:51:00   \n",
       "3                     B00037 2021-01-01 00:13:09 2021-01-01 00:21:26   \n",
       "4                     B00037 2021-01-01 00:38:31 2021-01-01 00:53:44   \n",
       "...                      ...                 ...                 ...   \n",
       "1154107               B03266 2021-01-31 23:43:03 2021-01-31 23:51:48   \n",
       "1154108               B03284 2021-01-31 23:50:27 2021-02-01 00:48:03   \n",
       "1154109      B03285          2021-01-31 23:13:46 2021-01-31 23:29:58   \n",
       "1154110      B03285          2021-01-31 23:58:03 2021-02-01 00:17:29   \n",
       "1154111               B03321 2021-01-31 23:39:00 2021-02-01 00:15:00   \n",
       "\n",
       "         PUlocationID  DOlocationID Affiliated_base_number   trip_duration  \\\n",
       "0                -1.0          -1.0                 B00009 0 days 00:17:00   \n",
       "1                -1.0          -1.0                 B00009 0 days 00:17:00   \n",
       "2                -1.0          -1.0                 B00013 0 days 01:50:00   \n",
       "3                -1.0          72.0                 B00037 0 days 00:08:17   \n",
       "4                -1.0          61.0                 B00037 0 days 00:15:13   \n",
       "...               ...           ...                    ...             ...   \n",
       "1154107           7.0           7.0                 B03266 0 days 00:08:45   \n",
       "1154108          44.0          91.0                        0 days 00:57:36   \n",
       "1154109         171.0         171.0        B03285          0 days 00:16:12   \n",
       "1154110          15.0          15.0        B03285          0 days 00:19:26   \n",
       "1154111          -1.0          -1.0                 B03321 0 days 00:36:00   \n",
       "\n",
       "         trip_duration_minutes  dispatching_base_num_encoded  \\\n",
       "0                    17.000000                             2   \n",
       "1                    17.000000                             2   \n",
       "2                   110.000000                             3   \n",
       "3                     8.283333                             6   \n",
       "4                    15.216667                             6   \n",
       "...                        ...                           ...   \n",
       "1154107               8.750000                           511   \n",
       "1154108              57.600000                           520   \n",
       "1154109              16.200000                           521   \n",
       "1154110              19.433333                           521   \n",
       "1154111              36.000000                           534   \n",
       "\n",
       "         Affiliated_base_number_encoded  PUlocationID_encoded  \\\n",
       "0                                     8                     0   \n",
       "1                                     8                     0   \n",
       "2                                     9                     0   \n",
       "3                                    12                     0   \n",
       "4                                    12                     0   \n",
       "...                                 ...                   ...   \n",
       "1154107                             655                   229   \n",
       "1154108                               0                   201   \n",
       "1154109                             668                    78   \n",
       "1154110                             668                    54   \n",
       "1154111                             686                     0   \n",
       "\n",
       "         DOlocationID_encoded  \n",
       "0                           0  \n",
       "1                           0  \n",
       "2                           0  \n",
       "3                         233  \n",
       "4                         221  \n",
       "...                       ...  \n",
       "1154107                   230  \n",
       "1154108                   254  \n",
       "1154109                    78  \n",
       "1154110                    54  \n",
       "1154111                     0  \n",
       "\n",
       "[1135259 rows x 12 columns]"
      ]
     },
     "execution_count": 28,
     "metadata": {},
     "output_type": "execute_result"
    }
   ],
   "source": [
    "df_labeled"
   ]
  },
  {
   "cell_type": "code",
   "execution_count": 29,
   "id": "aadad5fa",
   "metadata": {},
   "outputs": [
    {
     "name": "stdout",
     "output_type": "stream",
     "text": [
      "\n",
      "--- Frequency Encoding ---\n",
      "dispatching_base_num: frequency encoded\n",
      "Affiliated_base_number: frequency encoded\n",
      "PUlocationID: frequency encoded\n",
      "DOlocationID: frequency encoded\n",
      "After frequency encoding: 12 columns\n"
     ]
    }
   ],
   "source": [
    "# Option 3: Frequency Encoding (replace categories with their frequency)\n",
    "print(\"\\n--- Frequency Encoding ---\")\n",
    "df_freq = df_filtered.copy()\n",
    "for col in categorical_cols:\n",
    "    freq_map = df_freq[col].value_counts().to_dict()\n",
    "    df_freq[col + '_freq'] = df_freq[col].map(freq_map)\n",
    "    print(f\"{col}: frequency encoded\")\n",
    "\n",
    "print(f\"After frequency encoding: {df_freq.shape[1]} columns\")"
   ]
  },
  {
   "cell_type": "code",
   "execution_count": 30,
   "id": "1488c9ad",
   "metadata": {},
   "outputs": [
    {
     "name": "stdout",
     "output_type": "stream",
     "text": [
      "Dimensionality explanation:\n",
      "Original features: 4 categorical columns\n",
      "After one-hot encoding: 1770 total columns\n",
      "That's our feature matrix dimensionality: 1770\n",
      "\n",
      "Sample of one-hot encoded columns:\n",
      "['dispatching_base_num_B00008', 'dispatching_base_num_B00009', 'dispatching_base_num_B00013', 'dispatching_base_num_B00014', 'dispatching_base_num_B00021         ', 'dispatching_base_num_B00037', 'dispatching_base_num_B00053', 'dispatching_base_num_B00078', 'dispatching_base_num_B00095', 'dispatching_base_num_B00111']\n"
     ]
    }
   ],
   "source": [
    "# This is what happens in feature engineering for ML:\n",
    "print(\"Dimensionality explanation:\")\n",
    "print(f\"Original features: {len(categorical_cols)} categorical columns\")\n",
    "print(f\"After one-hot encoding: {df_onehot.shape[1]} total columns\")\n",
    "print(f\"That's our feature matrix dimensionality: {df_onehot.shape[1]}\")\n",
    "\n",
    "# Let's see what these columns look like\n",
    "print(\"\\nSample of one-hot encoded columns:\")\n",
    "onehot_columns = [col for col in df_onehot.columns if any(x in col for x in categorical_cols)]\n",
    "print(onehot_columns[:10])  # Show first 10 encoded columns"
   ]
  },
  {
   "cell_type": "code",
   "execution_count": 31,
   "id": "48a34ca8",
   "metadata": {},
   "outputs": [],
   "source": [
    "# Extract multiple time components\n",
    "df_labeled['pickup_hour'] = df_labeled['pickup_datetime'].dt.hour\n",
    "df_labeled['pickup_dayofweek'] = df_labeled['pickup_datetime'].dt.dayofweek  # Monday=0, Sunday=6\n",
    "df_labeled['pickup_day'] = df_labeled['pickup_datetime'].dt.day\n",
    "df_labeled['pickup_month'] = df_labeled['pickup_datetime'].dt.month"
   ]
  },
  {
   "cell_type": "code",
   "execution_count": 32,
   "id": "564255f8",
   "metadata": {},
   "outputs": [
    {
     "name": "stdout",
     "output_type": "stream",
     "text": [
      "Time features created:\n",
      "Hour range: 0 to 23\n",
      "Weekend trips: 283114\n",
      "Rush hour trips: 423837\n"
     ]
    }
   ],
   "source": [
    "# Create time-based categorical features\n",
    "df_labeled['is_weekend'] = (df_labeled['pickup_dayofweek'] >= 5).astype(int)  # Saturday/Sunday\n",
    "df_labeled['is_rush_hour'] = ((df_labeled['pickup_hour'] >= 7) & (df_labeled['pickup_hour'] <= 9) | \n",
    "                              (df_labeled['pickup_hour'] >= 16) & (df_labeled['pickup_hour'] <= 19)).astype(int)\n",
    "\n",
    "print(\"Time features created:\")\n",
    "print(f\"Hour range: {df_labeled['pickup_hour'].min()} to {df_labeled['pickup_hour'].max()}\")\n",
    "print(f\"Weekend trips: {df_labeled['is_weekend'].sum()}\")\n",
    "print(f\"Rush hour trips: {df_labeled['is_rush_hour'].sum()}\")"
   ]
  },
  {
   "cell_type": "code",
   "execution_count": 33,
   "id": "1f63e2c6",
   "metadata": {},
   "outputs": [],
   "source": [
    "# Now update our feature matrix with time features\n",
    "time_features = ['pickup_hour', 'pickup_dayofweek', 'pickup_day', 'is_weekend', 'is_rush_hour']\n",
    "categorical_features = ['dispatching_base_num_encoded', 'Affiliated_base_number_encoded', \n",
    "                       'PUlocationID_encoded', 'DOlocationID_encoded']\n",
    "\n",
    "all_features = categorical_features + time_features"
   ]
  },
  {
   "cell_type": "markdown",
   "id": "74cf3bdd",
   "metadata": {},
   "source": [
    "**Q6: What's the RMSE on train?**"
   ]
  },
  {
   "cell_type": "code",
   "execution_count": 34,
   "id": "92757045",
   "metadata": {},
   "outputs": [
    {
     "name": "stdout",
     "output_type": "stream",
     "text": [
      "\n",
      "Final feature matrix shape: (1135259, 9)\n",
      "Features used: ['dispatching_base_num_encoded', 'Affiliated_base_number_encoded', 'PUlocationID_encoded', 'DOlocationID_encoded', 'pickup_hour', 'pickup_dayofweek', 'pickup_day', 'is_weekend', 'is_rush_hour']\n",
      "Target variable shape: (1135259,)\n",
      "\n",
      "Training set: (908207, 9)\n",
      "Validation set: (227052, 9)\n"
     ]
    }
   ],
   "source": [
    "from sklearn.model_selection import train_test_split\n",
    "# Prepare features and target for ML\n",
    "\n",
    "all_features = categorical_features + time_features\n",
    "\n",
    "X = df_labeled[all_features]\n",
    "y = df_labeled['trip_duration_minutes']\n",
    "\n",
    "print(f\"\\nFinal feature matrix shape: {X.shape}\")\n",
    "print(\"Features used:\", all_features)\n",
    "\n",
    "print(f\"Target variable shape: {y.shape}\")\n",
    "\n",
    "# Split into training and validation sets\n",
    "X_train, X_val, y_train, y_val = train_test_split(X, y, test_size=0.2, random_state=42)\n",
    "\n",
    "print(f\"\\nTraining set: {X_train.shape}\")\n",
    "print(f\"Validation set: {X_val.shape}\")"
   ]
  },
  {
   "cell_type": "code",
   "execution_count": 35,
   "id": "075e676b",
   "metadata": {},
   "outputs": [
    {
     "data": {
      "image/png": "[encoded data removed]",
      "text/plain": [
       "<Figure size 1200x400 with 2 Axes>"
      ]
     },
     "metadata": {},
     "output_type": "display_data"
    }
   ],
   "source": [
    "# Check if time features correlate with trip duration\n",
    "import matplotlib.pyplot as plt\n",
    "\n",
    "plt.figure(figsize=(12, 4))\n",
    "\n",
    "plt.subplot(1, 2, 1)\n",
    "df_labeled.groupby('pickup_hour')['trip_duration_minutes'].mean().plot()\n",
    "plt.title('Average Trip Duration by Hour')\n",
    "plt.xlabel('Hour of Day')\n",
    "plt.ylabel('Avg Duration (minutes)')\n",
    "\n",
    "plt.subplot(1, 2, 2)\n",
    "df_labeled.groupby('pickup_dayofweek')['trip_duration_minutes'].mean().plot()\n",
    "plt.title('Average Trip Duration by Day of Week')\n",
    "plt.xlabel('Day of Week (0=Monday)')\n",
    "plt.ylabel('Avg Duration (minutes)')\n",
    "\n",
    "plt.tight_layout()\n",
    "plt.show()"
   ]
  },
  {
   "cell_type": "code",
   "execution_count": 36,
   "id": "f0af662d",
   "metadata": {
    "scrolled": true
   },
   "outputs": [],
   "source": [
    "# your code here\n",
    "\n",
    "# Train a model - let's start with Linear Regression\n",
    "from sklearn.linear_model import LinearRegression\n",
    "from sklearn.metrics import mean_squared_error\n",
    "import numpy as np\n",
    "\n",
    "# Initialize and train the model\n",
    "model = LinearRegression()\n",
    "model.fit(X_train, y_train)\n",
    "\n",
    "# Make predictions on training set\n",
    "y_train_pred = model.predict(X_train)"
   ]
  },
  {
   "cell_type": "code",
   "execution_count": 37,
   "id": "5377f174",
   "metadata": {},
   "outputs": [
    {
     "name": "stdout",
     "output_type": "stream",
     "text": [
      "\n",
      "Q6 - RMSE on training set: 15.72 minutes\n"
     ]
    }
   ],
   "source": [
    "# Calculate RMSE on training set (Q6)\n",
    "train_rmse = np.sqrt(mean_squared_error(y_train, y_train_pred))\n",
    "print(f\"\\nQ6 - RMSE on training set: {train_rmse:.2f} minutes\")\n",
    "\n",
    "# Make predictions on validation set\n",
    "y_val_pred = model.predict(X_val)\n"
   ]
  },
  {
   "cell_type": "code",
   "execution_count": 39,
   "id": "4c04d2e5",
   "metadata": {},
   "outputs": [
    {
     "name": "stdout",
     "output_type": "stream",
     "text": [
      "\n",
      "--- Random Forest Results ---\n",
      "Q6 - RMSE on training set: 7.19 minutes\n",
      "Q7 - RMSE on validation set: 12.89 minutes\n"
     ]
    }
   ],
   "source": [
    "# Try Random Forest (usually better for tabular data)\n",
    "from sklearn.ensemble import RandomForestRegressor\n",
    "\n",
    "rf_model = RandomForestRegressor(n_estimators=100, random_state=42, n_jobs=-1)\n",
    "rf_model.fit(X_train, y_train)\n",
    "\n",
    "# Calculate RMSE for Random Forest\n",
    "y_train_pred_rf = rf_model.predict(X_train)\n",
    "y_val_pred_rf = rf_model.predict(X_val)\n",
    "\n",
    "train_rmse_rf = np.sqrt(mean_squared_error(y_train, y_train_pred_rf))\n",
    "val_rmse_rf = np.sqrt(mean_squared_error(y_val, y_val_pred_rf))\n",
    "\n",
    "print(f\"\\n--- Random Forest Results ---\")\n",
    "print(f\"Q6 - RMSE on training set: {train_rmse_rf:.2f} minutes\")\n",
    "print(f\"Q7 - RMSE on validation set: {val_rmse_rf:.2f} minutes\")"
   ]
  },
  {
   "cell_type": "markdown",
   "id": "db143f0c",
   "metadata": {},
   "source": [
    "Now, let's put data preprocssing steps in a function so that we can process the validation set in the same way as well."
   ]
  },
  {
   "cell_type": "code",
   "execution_count": 127,
   "id": "1906e10e",
   "metadata": {},
   "outputs": [],
   "source": [
    "# your code here"
   ]
  },
  {
   "cell_type": "markdown",
   "id": "232b8068",
   "metadata": {},
   "source": [
    "**Q7: What's the RMSE on validation?**"
   ]
  },
  {
   "cell_type": "code",
   "execution_count": 38,
   "id": "6b2aa8e7",
   "metadata": {},
   "outputs": [
    {
     "name": "stdout",
     "output_type": "stream",
     "text": [
      "Q7 - RMSE on validation set: 15.66 minutes\n",
      "\n",
      "Average trip duration: 17.87 minutes\n",
      "Training RMSE is 88.0% of average duration\n",
      "Validation RMSE is 87.6% of average duration\n"
     ]
    }
   ],
   "source": [
    "# your code here\n",
    "\n",
    "# Calculate RMSE on validation set (Q7)\n",
    "val_rmse = np.sqrt(mean_squared_error(y_val, y_val_pred))\n",
    "print(f\"Q7 - RMSE on validation set: {val_rmse:.2f} minutes\")\n",
    "\n",
    "# Let's see how good our predictions are\n",
    "print(f\"\\nAverage trip duration: {y.mean():.2f} minutes\")\n",
    "print(f\"Training RMSE is {train_rmse/y.mean()*100:.1f}% of average duration\")\n",
    "print(f\"Validation RMSE is {val_rmse/y.mean()*100:.1f}% of average duration\")"
   ]
  },
  {
   "cell_type": "markdown",
   "id": "01a0bf73",
   "metadata": {},
   "source": [
    "## Why to use MLOps as we learn from this excercise ##"
   ]
  },
  {
   "cell_type": "code",
   "execution_count": null,
   "id": "c4422206",
   "metadata": {},
   "outputs": [],
   "source": [
    "# your answer here"
   ]
  },
  {
   "cell_type": "markdown",
   "id": "8dca5629",
   "metadata": {},
   "source": [
    "## BONUS: \n",
    "\n",
    "Now, try and run this notebook on AWS Instance"
   ]
  },
  {
   "cell_type": "markdown",
   "id": "db11f7cf",
   "metadata": {},
   "source": []
  }
 ],
 "metadata": {
  "kernelspec": {
   "display_name": "datasci_env",
   "language": "python",
   "name": "python3"
  },
  "language_info": {
   "codemirror_mode": {
    "name": "ipython",
    "version": 3
   },
   "file_extension": ".py",
   "mimetype": "text/x-python",
   "name": "python",
   "nbconvert_exporter": "python",
   "pygments_lexer": "ipython3",
   "version": "3.12.3"
  }
 },
 "nbformat": 4,
 "nbformat_minor": 5
}
